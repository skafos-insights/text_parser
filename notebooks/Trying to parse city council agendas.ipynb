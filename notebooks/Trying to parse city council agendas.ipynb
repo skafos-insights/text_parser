{
 "cells": [
  {
   "cell_type": "code",
   "execution_count": 19,
   "metadata": {},
   "outputs": [
    {
     "data": {
      "text/html": [
       "<style>.container { width: 90% !important; }</style>"
      ],
      "text/plain": [
       "<IPython.core.display.HTML object>"
      ]
     },
     "metadata": {},
     "output_type": "display_data"
    }
   ],
   "source": [
    "import itertools\n",
    "import json\n",
    "import os\n",
    "import re\n",
    "import requests\n",
    "import scipy\n",
    "\n",
    "from pathlib import Path\n",
    "\n",
    "import numpy as np\n",
    "import pandas as pd\n",
    "import sklearn as sk\n",
    "import tika\n",
    "\n",
    "from IPython.core.display import display, HTML\n",
    "display(HTML(\"<style>.container { width: 90% !important; }</style>\"))\n",
    "\n",
    "pd.options.display.max_rows\n",
    "pd.set_option('display.max_colwidth', -1)\n",
    "pd.set_option('display.max_rows', 500)\n",
    "pd.set_option('display.max_columns', 500)\n",
    "pd.set_option('display.width', 1000)"
   ]
  },
  {
   "cell_type": "markdown",
   "metadata": {},
   "source": [
    "# Driver functions"
   ]
  },
  {
   "cell_type": "code",
   "execution_count": 20,
   "metadata": {},
   "outputs": [],
   "source": [
    "def get_consent_agenda_df(text: str) -> pd.DataFrame:\n",
    "    \"\"\"\n",
    "    Get all the consent agenda items out into a parsed format.\n",
    "    \"\"\"\n",
    "    try:\n",
    "        consent_agenda = get_consent_agenda(text)\n",
    "        consent_df = pd.DataFrame(consent_agenda, columns=['raw_text'])\n",
    "        consent_df['name'] = consent_df['raw_text'].str.split('\\n\\n').apply(lambda x: x[0])\n",
    "        consent_df = consent_df[~consent_df['name'].str.contains('Minutes')]\n",
    "        consent_df['type'] = consent_df['name'].str.replace('\\n', '').str.split(': ').apply(lambda x: x[0])\n",
    "        consent_df['name'] = consent_df['name'].str.replace('\\n', '').str.split(': ').apply(lambda x: x[1:]).apply(lambda x: ' '.join(x))\n",
    "        consent_df['dollar_amount'] = consent_df['name'].apply(extract_dollar_amount)\n",
    "        consent_df.loc[consent_df['dollar_amount'] == '', 'dollar_amount'] = consent_df['raw_text'].apply(extract_dollar_amount)\n",
    "        consent_df['name'] = consent_df.apply(lambda x: x['name'].replace(x['dollar_amount'], ''), axis=1).str.replace('-', '')\n",
    "        consent_df['status'] = consent_df['raw_text'].apply(extract_status)\n",
    "    except (AttributeError, IndexError):\n",
    "        return pd.DataFrame([])\n",
    "    return consent_df\n",
    "\n",
    "def get_other_items_df(text: str) -> pd.DataFrame:\n",
    "    \"\"\"\n",
    "    Get the other discussion items out into a parsed format.\n",
    "    \"\"\"\n",
    "    other_items = get_other_items(text)\n",
    "    other_items_df = pd.DataFrame(other_items, columns=['type', 'raw_text'])\n",
    "    other_items_df['name'] = other_items_df['raw_text'].str.split('\\n \\n').apply(lambda x: x[0]).str.replace(': ', '').str.replace('*', '').str.replace('\\n', ' ')\n",
    "    other_items_df.loc[other_items_df['name'].str.len() > 200, 'name'] = other_items_df['raw_text'].str.split('\\n\\n').apply(lambda x: x[0]).str.replace(': ', '').str.replace('*', '').str.replace('\\n', ' ')\n",
    "    other_items_df['dollar_amount'] = other_items_df['name'].apply(extract_dollar_amount)\n",
    "    other_items_df['name'] = other_items_df.apply(lambda x: x['name'].replace(x['dollar_amount'], ''), axis=1).str.replace('-', '')\n",
    "    other_items_df['status'] = other_items_df['name'].apply(extract_status)\n",
    "    other_items_df['name'] = other_items_df.apply(lambda x: x['name'].replace(x['status'], ''), axis=1)\n",
    "    other_items_df['name'] = other_items_df['name'].str.replace('OTHER BUSINESS', '')\n",
    "    other_items_df = other_items_df[other_items_df['name'].str.len() > 5]\n",
    "    other_items_df['type'] = other_items_df['type'].str.replace('\\n', '').str.strip()\n",
    "    return other_items_df\n"
   ]
  },
  {
   "cell_type": "markdown",
   "metadata": {},
   "source": [
    "## Helper functions"
   ]
  },
  {
   "cell_type": "code",
   "execution_count": 21,
   "metadata": {},
   "outputs": [],
   "source": [
    "from itertools import * \n",
    "import re\n",
    "from typing import List, Tuple\n",
    "\n",
    "def grouper(iterable, n, fillvalue=None):\n",
    "    \"Collect data into fixed-length chunks or blocks\"\n",
    "    # grouper('ABCDEFG', 3, 'x') --> ABC DEF Gxx\"\n",
    "    args = [iter(iterable)] * n\n",
    "    return zip_longest(*args, fillvalue=fillvalue)\n",
    "\n",
    "def get_consent_agenda(text: str) -> List[str]:\n",
    "    try:\n",
    "        consent_agenda = re.split(r'\\n{1}[a-z]\\.\\s', text)[1:]  # Get the incidence of ('a.', 'b.', ...)\n",
    "        consent_agenda[-1] = consent_agenda[-1].split('\\n\\n')[0]\n",
    "    except IndexError:\n",
    "        return []\n",
    "    return consent_agenda\n",
    "\n",
    "def get_manager_response(text: str, consent_agenda: str) -> str:\n",
    "    manager_response = text.split(consent_agenda[-1])[1].split('\\nCOMMUNITY MATTERS')[0]\n",
    "    return manager_response\n",
    "\n",
    "def get_other_items(text: str) -> List[Tuple[str, str]]:\n",
    "    known_headings = ['APPROPRIATION', 'RESOLUTION', 'REPORT', 'ORDINANCE', 'PUBLIC HEARING', 'A RESOLUTION']\n",
    "    perms = list(itertools.permutations(known_headings, 2))\n",
    "    headings = list(itertools.chain.from_iterable([  # Minutes are very lax about how they join together\n",
    "        map(lambda x: '/'.join(x), perms),\n",
    "        map(lambda x: ' / '.join(x), perms),\n",
    "        map(lambda x: '/ '.join(x), perms),\n",
    "        map(lambda x: ' /'.join(x), perms),\n",
    "    ]))\n",
    "    headings.extend(known_headings)\n",
    "    potential_headings = ['\\n' + heading for heading in headings]\n",
    "    regex_string = '(' + '|'.join(potential_headings) + ')'\n",
    "    other_items = re.split(regex_string, text)[1:]\n",
    "    labeled_other_items = list(grouper(other_items, 2, 'xxx'))\n",
    "    try:\n",
    "        labeled_other_items[-1] = (labeled_other_items[-1][0], labeled_other_items[-1][1].split('OTHER BUSINESS')[0])\n",
    "    except IndexError:\n",
    "        return []\n",
    "    return labeled_other_items\n",
    "\n",
    "def replace_newlines(text: str) -> str:\n",
    "    return text.replace('\\n', '')\n",
    "\n",
    "def extract_dollar_amount(text: str) -> str:\n",
    "    pat = re.compile(r'\\$\\d+\\,*\\d*\\.*\\d*')\n",
    "    if pat.findall(str(text)):\n",
    "        return pat.findall(str(text))[0]\n",
    "    else:\n",
    "        return ''\n",
    "    \n",
    "def extract_status(text: str) -> str:\n",
    "    pat = re.compile(r'\\([a-z]+.*\\)')\n",
    "    if pat.findall(str(text)):\n",
    "        return pat.findall(str(text))[0]\n",
    "    pat = re.compile(r'\\(\\d+[a-z].*\\)')\n",
    "    if pat.findall(str(text)):\n",
    "        return pat.findall(str(text))[0]\n",
    "    else:\n",
    "        return ''\n",
    "    \n",
    "def extract_all_caps(text: str) -> str:\n",
    "    pat = re.compile(r'(([A-Z]|\\s)+)')\n",
    "    if pat.findall(str(text)):\n",
    "        return pat.findall(str(text))[0]\n",
    "    "
   ]
  },
  {
   "cell_type": "code",
   "execution_count": 22,
   "metadata": {},
   "outputs": [],
   "source": [
    "minutes_path = Path('../data/cville_pdfs/minutes/').glob('*.txt')"
   ]
  },
  {
   "cell_type": "code",
   "execution_count": 23,
   "metadata": {},
   "outputs": [],
   "source": [
    "with open('../data/cville_pdfs/minutes/36377.txt') as file:  # Use your path to the file!\n",
    "    text = file.read()\n",
    "consent_agenda_df = get_consent_agenda_df(text)\n",
    "other_items_df = get_other_items_df(text)\n"
   ]
  },
  {
   "cell_type": "code",
   "execution_count": 25,
   "metadata": {},
   "outputs": [],
   "source": [
    "Path(\"../intermediate\").mkdir(parents=True, exist_ok=True)\n",
    "consent_agenda_df.to_csv('../intermediate/minutes_28434_consent_agenda.csv', sep='|')\n",
    "other_items_df.to_csv('../intermediate/minutes_28434_other_discussion_items.csv', sep='|')"
   ]
  },
  {
   "cell_type": "code",
   "execution_count": 26,
   "metadata": {},
   "outputs": [
    {
     "name": "stdout",
     "output_type": "stream",
     "text": [
      "1     Virginia Juvenile Community Crime Control Act Grant                                                  \n",
      "2     Adult Drug Treatment Court Grant Award   (2nd                                                        \n",
      "3     State Criminal Alien Assistance Program 2015 Grant                                                   \n",
      "4     Charlottesville Area Transit FY2016 Grants   (2nd                                                    \n",
      "5     Runaway Emergency Shelter Program Grant                                                              \n",
      "6     Sidewalk Waiver Request for 219 Lankford Avenue   Sidewalk Waiver Request for 219 Lankford Avenue    \n",
      "7     Initiate ZTA for Microbreweries   Initiate ZTA for Microbreweries                                    \n",
      "8     VDOT Transportation Alternative Program Grant Application for                                        \n",
      "9     Short Term Rental Tax amendment (2nd reading)  Short Term Rental Tax amendment                       \n",
      "10    Increase Limit of Maximum Financial Worth for Rent Relief                                            \n",
      "11    Franchise Agreement with Intellifiber (formerly Dominion                                             \n",
      "Name: name, dtype: object\n"
     ]
    }
   ],
   "source": [
    "print(consent_agenda_df.name)"
   ]
  },
  {
   "cell_type": "code",
   "execution_count": null,
   "metadata": {},
   "outputs": [],
   "source": []
  }
 ],
 "metadata": {
  "kernelspec": {
   "display_name": "Python 3",
   "language": "python",
   "name": "python3"
  },
  "language_info": {
   "codemirror_mode": {
    "name": "ipython",
    "version": 3
   },
   "file_extension": ".py",
   "mimetype": "text/x-python",
   "name": "python",
   "nbconvert_exporter": "python",
   "pygments_lexer": "ipython3",
   "version": "3.7.1"
  }
 },
 "nbformat": 4,
 "nbformat_minor": 2
}
